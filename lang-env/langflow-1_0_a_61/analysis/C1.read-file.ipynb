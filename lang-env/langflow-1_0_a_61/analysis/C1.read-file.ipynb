{
 "cells": [
  {
   "metadata": {
    "ExecuteTime": {
     "end_time": "2024-06-27T08:18:46.658039Z",
     "start_time": "2024-06-27T08:18:46.653854Z"
    }
   },
   "cell_type": "code",
   "source": [
    "import os\n",
    "\n",
    "# 指定文件夹名称\n",
    "folder_name = \"fetch_and_output\"\n",
    "\n",
    "# 使用os.makedirs创建文件夹，exist_ok=True表示如果文件夹已存在则不抛出错误\n",
    "os.makedirs(folder_name, exist_ok=True)\n",
    "\n",
    "# 检查文件夹是否创建成功\n",
    "if os.path.exists(folder_name):\n",
    "    print(f\"Folder '{folder_name}' has been created successfully.\")\n",
    "else:\n",
    "    print(f\"Folder '{folder_name}' already exists.\")"
   ],
   "id": "31d0f20798278a1f",
   "outputs": [
    {
     "name": "stdout",
     "output_type": "stream",
     "text": [
      "Folder 'fetch_and_output' has been created successfully.\n"
     ]
    }
   ],
   "execution_count": 132
  },
  {
   "cell_type": "code",
   "id": "initial_id",
   "metadata": {
    "collapsed": true,
    "ExecuteTime": {
     "end_time": "2024-06-27T08:18:46.941643Z",
     "start_time": "2024-06-27T08:18:46.659043Z"
    }
   },
   "source": [
    "from bs4 import BeautifulSoup\n",
    "from datetime import datetime\n",
    "\n",
    "import requests\n",
    "\n",
    "# GitHub上的文件URL\n",
    "url = 'https://raw.githubusercontent.com/llf007/public-apis-cn/main/README.md'\n",
    "\n",
    "# 使用requests.get下载文件\n",
    "response = requests.get(url)\n",
    "# 获取当前时间戳\n",
    "current_timestamp = int(datetime.now().timestamp() * 1000)\n",
    "# 检查请求是否成功\n",
    "if response.status_code == 200:\n",
    "    \n",
    "    # 文件内容\n",
    "    markdown_text = response.text\n",
    "    # 你可以将文件保存到本地\n",
    "    file_path = f'{folder_name}/{current_timestamp}_public-apis-cn_markdown.md'\n",
    "    with open(file_path, 'w', encoding='utf-8') as file:\n",
    "        file.write(markdown_text)\n",
    "    print(f\"File loaded successfully. File is saved to: {file_path}\")\n",
    "else:\n",
    "    markdown_text = ''\n",
    "    print(f\"Failed to retrieve the file. Status code: {response.status_code}\")\n"
   ],
   "outputs": [
    {
     "name": "stdout",
     "output_type": "stream",
     "text": [
      "File loaded successfully. File is saved to: fetch_and_output/1719476326938_public-apis-cn_markdown.md\n"
     ]
    }
   ],
   "execution_count": 133
  },
  {
   "metadata": {
    "ExecuteTime": {
     "end_time": "2024-06-27T08:18:47.263542Z",
     "start_time": "2024-06-27T08:18:46.942647Z"
    }
   },
   "cell_type": "code",
   "source": [
    "import markdown\n",
    "\n",
    "html_text = markdown.markdown(markdown_text)"
   ],
   "id": "e9af850129703ff2",
   "outputs": [],
   "execution_count": 134
  },
  {
   "metadata": {
    "ExecuteTime": {
     "end_time": "2024-06-27T08:18:47.319246Z",
     "start_time": "2024-06-27T08:18:47.264545Z"
    }
   },
   "cell_type": "code",
   "source": "soup = BeautifulSoup(html_text, 'html.parser')\n",
   "id": "c6628322d5a00b7c",
   "outputs": [],
   "execution_count": 135
  },
  {
   "metadata": {
    "ExecuteTime": {
     "end_time": "2024-06-27T08:18:47.323675Z",
     "start_time": "2024-06-27T08:18:47.320250Z"
    }
   },
   "cell_type": "code",
   "source": "titles = soup.find_all('h2')",
   "id": "6837babf515b45b9",
   "outputs": [],
   "execution_count": 136
  },
  {
   "metadata": {
    "ExecuteTime": {
     "end_time": "2024-06-27T08:18:47.334841Z",
     "start_time": "2024-06-27T08:18:47.323675Z"
    }
   },
   "cell_type": "code",
   "source": [
    "import json\n",
    "\n",
    "container = []\n",
    "for title in titles:\n",
    "    _dict = {'title': title.text}\n",
    "    # print(_dict)\n",
    "    next_p_tag = title.find_next_sibling('p')\n",
    "    # print(next_p_tag)\n",
    "\n",
    "    demo = [{\"server_name\": link.text, \"link_url\": link.get('href')} for link in next_p_tag.findAll('a') if\n",
    "            link.get('href')]\n",
    "    _dict[\"apis\"] = demo\n",
    "    container.append(_dict)\n",
    "\n",
    "json_string = json.dumps(container, indent=4, ensure_ascii=False)"
   ],
   "id": "50d64794e2544109",
   "outputs": [],
   "execution_count": 137
  },
  {
   "metadata": {
    "ExecuteTime": {
     "end_time": "2024-06-27T08:18:47.338779Z",
     "start_time": "2024-06-27T08:18:47.335845Z"
    }
   },
   "cell_type": "code",
   "source": [
    "# 将JSON字符串写入文件\n",
    "json_file_path = f'{folder_name}/{current_timestamp}_public-apis-cn_output.json'\n",
    "with open(json_file_path, 'w', encoding='utf-8') as file:\n",
    "    file.write(json_string)\n",
    "    print(f\"File output successfully. File is saved to: {json_file_path}\")"
   ],
   "id": "4087a33d65ea4819",
   "outputs": [
    {
     "name": "stdout",
     "output_type": "stream",
     "text": [
      "File output successfully. File is saved to: fetch_and_output/1719476326938_public-apis-cn_output.json\n"
     ]
    }
   ],
   "execution_count": 138
  },
  {
   "metadata": {
    "ExecuteTime": {
     "end_time": "2024-06-27T08:18:47.341475Z",
     "start_time": "2024-06-27T08:18:47.338779Z"
    }
   },
   "cell_type": "code",
   "source": [
    "# 至此 所有的接口村成了JSON格式的文件\n",
    "# 下一步需要调用AI分析接口的特点，并生成对应的API文档"
   ],
   "id": "dd7acfc740ca033b",
   "outputs": [],
   "execution_count": 139
  },
  {
   "metadata": {
    "ExecuteTime": {
     "end_time": "2024-06-27T08:18:47.344013Z",
     "start_time": "2024-06-27T08:18:47.342480Z"
    }
   },
   "cell_type": "code",
   "source": "",
   "id": "c68f912878f7567",
   "outputs": [],
   "execution_count": 139
  }
 ],
 "metadata": {
  "kernelspec": {
   "display_name": "Python 3",
   "language": "python",
   "name": "python3"
  },
  "language_info": {
   "codemirror_mode": {
    "name": "ipython",
    "version": 2
   },
   "file_extension": ".py",
   "mimetype": "text/x-python",
   "name": "python",
   "nbconvert_exporter": "python",
   "pygments_lexer": "ipython2",
   "version": "2.7.6"
  }
 },
 "nbformat": 4,
 "nbformat_minor": 5
}
