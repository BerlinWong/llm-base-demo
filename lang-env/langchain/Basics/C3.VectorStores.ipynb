{
 "cells": [
  {
   "metadata": {
    "ExecuteTime": {
     "end_time": "2024-06-21T09:59:11.077405Z",
     "start_time": "2024-06-21T09:59:11.073892Z"
    }
   },
   "cell_type": "code",
   "source": [
    "import os\n",
    "\n",
    "from dotenv import load_dotenv\n",
    "\n",
    "load_dotenv()\n",
    "\n",
    "# 读取LangSmith Key\n",
    "os.environ[\"LANGCHAIN_TRACING_V2\"] = \"true\"\n",
    "os.environ[\"LANGCHAIN_API_KEY\"] = os.getenv(\"LANGCHAIN_API_KEY\")\n",
    "os.environ[\"LANGCHAIN_PROJECT\"] = \"lang-env\"\n",
    "os.environ[\"OPENAI_API_KEY\"] = os.getenv(\"OPENAI_API_KEY\")\n",
    "GPT_GOD_API_KEY = os.getenv(\"GPT_GOD_API_KEY\")"
   ],
   "id": "a2bce694dc13a837",
   "outputs": [],
   "execution_count": 28
  },
  {
   "metadata": {
    "ExecuteTime": {
     "end_time": "2024-06-21T09:59:11.109484Z",
     "start_time": "2024-06-21T09:59:11.106963Z"
    }
   },
   "cell_type": "code",
   "source": [
    "# from langchain_openai import ChatOpenAI\n",
    "# \n",
    "# model = ChatOpenAI(model=\"glm-4-flash\",\n",
    "#                    base_url=\"https://api.gptgod.online/v1/\",\n",
    "#                    api_key=GPT_GOD_API_KEY\n",
    "#                    )"
   ],
   "id": "835f19b501ecdd5b",
   "outputs": [],
   "execution_count": 29
  },
  {
   "metadata": {
    "ExecuteTime": {
     "end_time": "2024-06-21T09:59:11.142928Z",
     "start_time": "2024-06-21T09:59:11.139488Z"
    }
   },
   "cell_type": "code",
   "source": [
    "from langchain_core.documents import Document\n",
    "\n",
    "documents = [\n",
    "    Document(\n",
    "        page_content=\"Dogs are great companions, known for their loyalty and friendliness.\",\n",
    "        metadata={\"source\": \"mammal-pets-doc\"},\n",
    "    ),\n",
    "    Document(\n",
    "        page_content=\"Cats are independent pets that often enjoy their own space.\",\n",
    "        metadata={\"source\": \"mammal-pets-doc\"},\n",
    "    ),\n",
    "    Document(\n",
    "        page_content=\"Goldfish are popular pets for beginners, requiring relatively simple care.\",\n",
    "        metadata={\"source\": \"fish-pets-doc\"},\n",
    "    ),\n",
    "    Document(\n",
    "        page_content=\"Parrots are intelligent birds capable of mimicking human speech.\",\n",
    "        metadata={\"source\": \"bird-pets-doc\"},\n",
    "    ),\n",
    "    Document(\n",
    "        page_content=\"Rabbits are social animals that need plenty of space to hop around.\",\n",
    "        metadata={\"source\": \"mammal-pets-doc\"},\n",
    "    ),\n",
    "]"
   ],
   "id": "8df5193afeca1fb1",
   "outputs": [],
   "execution_count": 30
  },
  {
   "metadata": {
    "ExecuteTime": {
     "end_time": "2024-06-21T09:59:13.283944Z",
     "start_time": "2024-06-21T09:59:11.143931Z"
    }
   },
   "cell_type": "code",
   "source": [
    "from langchain_chroma import Chroma\n",
    "from langchain_openai import OpenAIEmbeddings\n",
    "\n",
    "vectorstore = Chroma.from_documents(\n",
    "    documents,\n",
    "    embedding=OpenAIEmbeddings(model=\"text-embedding-3-small\"),\n",
    ")\n"
   ],
   "id": "58d178ffcdeb0b0f",
   "outputs": [],
   "execution_count": 31
  },
  {
   "metadata": {
    "ExecuteTime": {
     "end_time": "2024-06-21T09:59:13.740283Z",
     "start_time": "2024-06-21T09:59:13.284948Z"
    }
   },
   "cell_type": "code",
   "source": "vectorstore.similarity_search(\"cat\")",
   "id": "b0bb21cf2758917e",
   "outputs": [
    {
     "data": {
      "text/plain": [
       "[Document(page_content='Cats are independent pets that often enjoy their own space.', metadata={'source': 'mammal-pets-doc'}),\n",
       " Document(page_content='Dogs are great companions, known for their loyalty and friendliness.', metadata={'source': 'mammal-pets-doc'}),\n",
       " Document(page_content='Rabbits are social animals that need plenty of space to hop around.', metadata={'source': 'mammal-pets-doc'}),\n",
       " Document(page_content='Motorcycles are popular in many cities for their agility and fuel efficiency.', metadata={'source': 'motorcycles-doc'})]"
      ]
     },
     "execution_count": 32,
     "metadata": {},
     "output_type": "execute_result"
    }
   ],
   "execution_count": 32
  },
  {
   "metadata": {
    "ExecuteTime": {
     "end_time": "2024-06-21T09:59:14.240904Z",
     "start_time": "2024-06-21T09:59:13.740283Z"
    }
   },
   "cell_type": "code",
   "source": "vectorstore.similarity_search_with_score(\"群居动物，会跳跃 需要足够的空间\", k=2)",
   "id": "a23f88ee46997b2c",
   "outputs": [
    {
     "data": {
      "text/plain": [
       "[(Document(page_content='Rabbits are social animals that need plenty of space to hop around.', metadata={'source': 'mammal-pets-doc'}),\n",
       "  0.8025619983673096),\n",
       " (Document(page_content='Cats are independent pets that often enjoy their own space.', metadata={'source': 'mammal-pets-doc'}),\n",
       "  1.2437764406204224)]"
      ]
     },
     "execution_count": 33,
     "metadata": {},
     "output_type": "execute_result"
    }
   ],
   "execution_count": 33
  },
  {
   "metadata": {
    "ExecuteTime": {
     "end_time": "2024-06-21T09:59:16.172167Z",
     "start_time": "2024-06-21T09:59:14.240904Z"
    }
   },
   "cell_type": "code",
   "source": [
    "embedding = OpenAIEmbeddings(model=\"text-embedding-3-small\").embed_query(\"兔子\")\n",
    "\n",
    "vectorstore.similarity_search_by_vector(embedding, k=2)"
   ],
   "id": "e3b9d3584037ee59",
   "outputs": [
    {
     "data": {
      "text/plain": [
       "[Document(page_content='Rabbits are social animals that need plenty of space to hop around.', metadata={'source': 'mammal-pets-doc'}),\n",
       " Document(page_content='Dogs are great companions, known for their loyalty and friendliness.', metadata={'source': 'mammal-pets-doc'})]"
      ]
     },
     "execution_count": 34,
     "metadata": {},
     "output_type": "execute_result"
    }
   ],
   "execution_count": 34
  },
  {
   "metadata": {
    "ExecuteTime": {
     "end_time": "2024-06-21T09:59:16.175546Z",
     "start_time": "2024-06-21T09:59:16.173172Z"
    }
   },
   "cell_type": "code",
   "source": [
    "# 检索器\n",
    "\n",
    "# from typing import List\n",
    "# from langchain_core.documents import Document\n",
    "# from langchain_core.runnables import RunnableLambda\n",
    "# retriever = RunnableLambda(vectorstore.similarity_search).bind(k=1)  # 选择顶部结果\n",
    "# retriever.batch([\"cat\", \"shark\"])"
   ],
   "id": "9850168d54606293",
   "outputs": [],
   "execution_count": 35
  },
  {
   "metadata": {
    "ExecuteTime": {
     "end_time": "2024-06-21T09:59:17.252872Z",
     "start_time": "2024-06-21T09:59:16.175546Z"
    }
   },
   "cell_type": "code",
   "source": [
    "# 换个写法\n",
    "retriever = vectorstore.as_retriever(\n",
    "    search_type=\"similarity\",\n",
    "    search_kwargs={\"k\": 1},\n",
    ")\n",
    "retriever.batch([\"cat\", \"dog\"])"
   ],
   "id": "ce0f9eefb7de1a7d",
   "outputs": [
    {
     "data": {
      "text/plain": [
       "[[Document(page_content='Cats are independent pets that often enjoy their own space.', metadata={'source': 'mammal-pets-doc'})],\n",
       " [Document(page_content='Dogs are great companions, known for their loyalty and friendliness.', metadata={'source': 'mammal-pets-doc'})]]"
      ]
     },
     "execution_count": 36,
     "metadata": {},
     "output_type": "execute_result"
    }
   ],
   "execution_count": 36
  },
  {
   "metadata": {},
   "cell_type": "markdown",
   "source": "## 一个example充分的使用embedding 以及retriever",
   "id": "4800e17b11c71b56"
  },
  {
   "metadata": {
    "ExecuteTime": {
     "end_time": "2024-06-21T09:59:17.257600Z",
     "start_time": "2024-06-21T09:59:17.252872Z"
    }
   },
   "cell_type": "code",
   "source": [
    "transportation_documents = [\n",
    "    Document(\n",
    "        page_content=\"The electric car is becoming increasingly popular due to its low emissions.\",\n",
    "        metadata={\"source\": \"environmental-tech-doc\"},\n",
    "    ),\n",
    "    Document(\n",
    "        page_content=\"Trains offer a convenient and eco-friendly way to travel long distances.\",\n",
    "        metadata={\"source\": \"public-transport-doc\"},\n",
    "    ),\n",
    "    Document(\n",
    "        page_content=\"Bicycles are a great way to get around the city, reducing traffic congestion and pollution.\",\n",
    "        metadata={\"source\": \"urban-mobility-doc\"},\n",
    "    ),\n",
    "    Document(\n",
    "        page_content=\"Motorcycles are popular in many cities for their agility and fuel efficiency.\",\n",
    "        metadata={\"source\": \"motorcycles-doc\"},\n",
    "    ),\n",
    "    Document(\n",
    "        page_content=\"Boats are essential for travel on waterways and are a common mode of transportation in coastal regions.\",\n",
    "        metadata={\"source\": \"water-transport-doc\"},\n",
    "    ),\n",
    "    Document(\n",
    "        page_content=\"Airplanes allow people to travel across the globe in a relatively short amount of time.\",\n",
    "        metadata={\"source\": \"aviation-doc\"},\n",
    "    ),\n",
    "    Document(\n",
    "        page_content=\"Horses have been used for transportation for thousands of years, especially in rural areas.\",\n",
    "        metadata={\"source\": \"traditional-transport-doc\"},\n",
    "    ),\n",
    "]"
   ],
   "id": "ae0103dbc8686c0a",
   "outputs": [],
   "execution_count": 37
  },
  {
   "metadata": {
    "ExecuteTime": {
     "end_time": "2024-06-21T09:59:19.565603Z",
     "start_time": "2024-06-21T09:59:17.258603Z"
    }
   },
   "cell_type": "code",
   "source": [
    "# 删除之前的第一个向量存储\n",
    "vectorstore.delete_collection()\n",
    "# vectorstore.get()\n",
    "# 1. 存储向量 \n",
    "vectorstore = Chroma.from_documents(\n",
    "    transportation_documents,\n",
    "    embedding=OpenAIEmbeddings(\n",
    "        model=\"text-embedding-3-small\",\n",
    "    )\n",
    ")"
   ],
   "id": "18110d9d33209894",
   "outputs": [],
   "execution_count": 38
  },
  {
   "metadata": {
    "ExecuteTime": {
     "end_time": "2024-06-21T09:59:19.570832Z",
     "start_time": "2024-06-21T09:59:19.566606Z"
    }
   },
   "cell_type": "code",
   "source": [
    "# 2. search\n",
    "vectorstore.get()\n",
    "# vectorstore2.similarity_search(\"自行车\")"
   ],
   "id": "6afa91ac78aaacc1",
   "outputs": [
    {
     "data": {
      "text/plain": [
       "{'ids': ['072e805d-c39e-49ea-b775-3aeea655718e',\n",
       "  '1df41362-ef61-4809-a5be-413bf24c2716',\n",
       "  '7bbe7b37-7a9a-4323-8711-f875eed132c4',\n",
       "  '96150631-94df-4365-b5a9-688d6b8a07b9',\n",
       "  'cc7b4ce9-37a2-4e7c-8718-47d086061a61',\n",
       "  'd1388029-a0a0-4e68-9025-80b4d4334f0a',\n",
       "  'f600c61f-7ba9-4b11-98a5-0df85c791040'],\n",
       " 'embeddings': None,\n",
       " 'metadatas': [{'source': 'urban-mobility-doc'},\n",
       "  {'source': 'aviation-doc'},\n",
       "  {'source': 'traditional-transport-doc'},\n",
       "  {'source': 'water-transport-doc'},\n",
       "  {'source': 'motorcycles-doc'},\n",
       "  {'source': 'environmental-tech-doc'},\n",
       "  {'source': 'public-transport-doc'}],\n",
       " 'documents': ['Bicycles are a great way to get around the city, reducing traffic congestion and pollution.',\n",
       "  'Airplanes allow people to travel across the globe in a relatively short amount of time.',\n",
       "  'Horses have been used for transportation for thousands of years, especially in rural areas.',\n",
       "  'Boats are essential for travel on waterways and are a common mode of transportation in coastal regions.',\n",
       "  'Motorcycles are popular in many cities for their agility and fuel efficiency.',\n",
       "  'The electric car is becoming increasingly popular due to its low emissions.',\n",
       "  'Trains offer a convenient and eco-friendly way to travel long distances.'],\n",
       " 'uris': None,\n",
       " 'data': None,\n",
       " 'included': ['metadatas', 'documents']}"
      ]
     },
     "execution_count": 39,
     "metadata": {},
     "output_type": "execute_result"
    }
   ],
   "execution_count": 39
  },
  {
   "metadata": {
    "ExecuteTime": {
     "end_time": "2024-06-21T10:26:38.839812Z",
     "start_time": "2024-06-21T10:26:38.836573Z"
    }
   },
   "cell_type": "code",
   "source": [
    "# 上面的操作无法集成到Runnable，所以我们需要建立检索器使其能够与chain链式调用\n",
    "# 过滤器\n",
    "retriever = vectorstore.as_retriever(\n",
    "    search_type=\"similarity\",\n",
    "    search_kwargs={\"k\": 1},\n",
    ")\n",
    "# 单个\n",
    "# retriever.invoke(\"dog\")\n",
    "# 批量\n",
    "# retriever.batch([\"速度最快\", \"水陆两栖\"])"
   ],
   "id": "21a61a610c354c89",
   "outputs": [],
   "execution_count": 71
  },
  {
   "metadata": {
    "ExecuteTime": {
     "end_time": "2024-06-21T10:26:42.108731Z",
     "start_time": "2024-06-21T10:26:41.045802Z"
    }
   },
   "cell_type": "code",
   "source": [
    "from langchain_openai import ChatOpenAI\n",
    "\n",
    "model = ChatOpenAI(model=\"glm-4-flash\",\n",
    "                   base_url=\"https://api.gptgod.online/v1/\",\n",
    "                   api_key=GPT_GOD_API_KEY\n",
    "                   )\n"
   ],
   "id": "e08737ec8af335e2",
   "outputs": [],
   "execution_count": 72
  },
  {
   "metadata": {
    "ExecuteTime": {
     "end_time": "2024-06-21T10:26:44.395062Z",
     "start_time": "2024-06-21T10:26:44.391806Z"
    }
   },
   "cell_type": "code",
   "source": [
    "from langchain_core.prompts import ChatPromptTemplate\n",
    "from langchain_core.runnables import RunnablePassthrough, RunnableLambda,RunnableParallel\n",
    "\n",
    "message = \"\"\"\n",
    "你先介绍一下自己叫什么，然后根据上下文回答问题\n",
    "{question}\n",
    "\n",
    "上下文：\n",
    "{context}\n",
    "\"\"\"\n",
    "prompt = ChatPromptTemplate.from_messages([\n",
    "    (\"system\", \"You are a helpful AI bot. \"),\n",
    "    (\"human\", message)\n",
    "])"
   ],
   "id": "4fc63be50077120e",
   "outputs": [],
   "execution_count": 73
  },
  {
   "metadata": {
    "ExecuteTime": {
     "end_time": "2024-06-21T10:26:49.201721Z",
     "start_time": "2024-06-21T10:26:49.198482Z"
    }
   },
   "cell_type": "code",
   "source": "chain = {\"context\": retriever, \"question\": RunnablePassthrough()} | prompt | model",
   "id": "f8ac8d92a48701d8",
   "outputs": [],
   "execution_count": 74
  },
  {
   "metadata": {
    "ExecuteTime": {
     "end_time": "2024-06-21T10:28:41.861426Z",
     "start_time": "2024-06-21T10:28:38.655697Z"
    }
   },
   "cell_type": "code",
   "source": "chain.invoke(\"Tell us about the slowest mode of transportation you know.\")",
   "id": "5c469b0013d2c53d",
   "outputs": [
    {
     "data": {
      "text/plain": [
       "AIMessage(content=\"Hello, I'm an AI assistant named ChatGLM. The slowest mode of transportation mentioned in the provided context is horses. Horses have been used for transportation for thousands of years, especially in rural areas, and they are slower compared to modern modes of transport such as cars, trains, or airplanes.\", response_metadata={'token_usage': {'completion_tokens': 62, 'prompt_tokens': 94, 'total_tokens': 156}, 'model_name': 'glm-4-flash', 'system_fingerprint': None, 'finish_reason': 'stop', 'logprobs': None}, id='run-b6ff6174-66d3-40f2-9e06-debb4bbe0b9a-0', usage_metadata={'input_tokens': 94, 'output_tokens': 62, 'total_tokens': 156})"
      ]
     },
     "execution_count": 76,
     "metadata": {},
     "output_type": "execute_result"
    }
   ],
   "execution_count": 76
  },
  {
   "metadata": {},
   "cell_type": "code",
   "source": "",
   "id": "7da178793df56918",
   "outputs": [],
   "execution_count": null
  },
  {
   "metadata": {},
   "cell_type": "code",
   "source": "",
   "id": "1de3559ebeb5fe9d",
   "outputs": [],
   "execution_count": null
  },
  {
   "metadata": {},
   "cell_type": "code",
   "source": "",
   "id": "3abe3fde8e15b8d5",
   "outputs": [],
   "execution_count": null
  },
  {
   "metadata": {},
   "cell_type": "code",
   "source": "",
   "id": "afadd27302c9d271",
   "outputs": [],
   "execution_count": null
  },
  {
   "metadata": {},
   "cell_type": "code",
   "source": "",
   "id": "fad8a97b79bf22",
   "outputs": [],
   "execution_count": null
  },
  {
   "metadata": {},
   "cell_type": "code",
   "source": "",
   "id": "1ac4c585be235e6b",
   "outputs": [],
   "execution_count": null
  },
  {
   "metadata": {},
   "cell_type": "code",
   "source": "",
   "id": "87856cd3ad3bfda1",
   "outputs": [],
   "execution_count": null
  },
  {
   "metadata": {},
   "cell_type": "code",
   "source": "",
   "id": "503e30701ee2c05f",
   "outputs": [],
   "execution_count": null
  },
  {
   "metadata": {},
   "cell_type": "code",
   "source": "",
   "id": "5e72c82b2b54bbc7",
   "outputs": [],
   "execution_count": null
  },
  {
   "metadata": {},
   "cell_type": "code",
   "source": "",
   "id": "633078d46c760cb4",
   "outputs": [],
   "execution_count": null
  },
  {
   "metadata": {},
   "cell_type": "code",
   "source": "",
   "id": "b66b7e7296f7b1f8",
   "outputs": [],
   "execution_count": null
  },
  {
   "metadata": {},
   "cell_type": "code",
   "source": "",
   "id": "eb195e3ed87064db",
   "outputs": [],
   "execution_count": null
  },
  {
   "metadata": {},
   "cell_type": "code",
   "source": "",
   "id": "a2c04e200200d320",
   "outputs": [],
   "execution_count": null
  },
  {
   "metadata": {},
   "cell_type": "code",
   "source": "",
   "id": "24632c0714eee32b",
   "outputs": [],
   "execution_count": null
  },
  {
   "metadata": {},
   "cell_type": "code",
   "source": "",
   "id": "33ed82da1b9e0401",
   "outputs": [],
   "execution_count": null
  },
  {
   "metadata": {},
   "cell_type": "code",
   "source": "",
   "id": "4da9e3d7385713e9",
   "outputs": [],
   "execution_count": null
  },
  {
   "metadata": {},
   "cell_type": "code",
   "source": "",
   "id": "71571b060a9f3007",
   "outputs": [],
   "execution_count": null
  }
 ],
 "metadata": {
  "kernelspec": {
   "display_name": "Python 3",
   "language": "python",
   "name": "python3"
  },
  "language_info": {
   "codemirror_mode": {
    "name": "ipython",
    "version": 2
   },
   "file_extension": ".py",
   "mimetype": "text/x-python",
   "name": "python",
   "nbconvert_exporter": "python",
   "pygments_lexer": "ipython2",
   "version": "2.7.6"
  }
 },
 "nbformat": 4,
 "nbformat_minor": 5
}
