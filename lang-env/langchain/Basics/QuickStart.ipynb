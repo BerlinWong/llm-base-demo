{
 "cells": [
  {
   "cell_type": "code",
   "id": "initial_id",
   "metadata": {
    "collapsed": true,
    "ExecuteTime": {
     "end_time": "2024-06-20T10:20:18.782438Z",
     "start_time": "2024-06-20T10:20:18.779457Z"
    }
   },
   "source": [
    "# !pip install -qU langchain-cli\n",
    "# !pip install -qU langsmith\n",
    "# !pip install -qU python-dotenv\n",
    "# 使用语言模型\n",
    "# !pip install -qU langchain-openai"
   ],
   "outputs": [],
   "execution_count": 9
  },
  {
   "cell_type": "code",
   "source": [
    "import os\n",
    "\n",
    "from dotenv import load_dotenv\n",
    "\n",
    "load_dotenv()\n",
    "\n",
    "# 读取LangSmith Key\n",
    "os.environ[\"LANGCHAIN_TRACING_V2\"] = \"true\"\n",
    "os.environ[\"LANGCHAIN_API_KEY\"] = os.getenv(\"LANGCHAIN_API_KEY\")\n",
    "os.environ[\"LANGCHAIN_PROJECT\"] = \"lang-env\"\n",
    "os.environ[\"OPENAI_API_KEY\"] = os.getenv(\"OPENAI_API_KEY\")\n",
    "GPT_GOD_API_KEY = os.getenv(\"GPT_GOD_API_KEY\")\n"
   ],
   "metadata": {
    "collapsed": false,
    "ExecuteTime": {
     "end_time": "2024-06-20T10:20:18.787655Z",
     "start_time": "2024-06-20T10:20:18.784441Z"
    }
   },
   "id": "db6fbd2fd7549c05",
   "outputs": [],
   "execution_count": 10
  },
  {
   "cell_type": "code",
   "source": [
    "from langchain_openai import ChatOpenAI\n",
    "\n",
    "model = ChatOpenAI(model=\"glm-4-flash\",\n",
    "                   base_url=\"https://api.gptgod.online/v1/\",\n",
    "                   api_key=GPT_GOD_API_KEY\n",
    "                   )"
   ],
   "metadata": {
    "collapsed": false,
    "ExecuteTime": {
     "end_time": "2024-06-20T10:20:19.939048Z",
     "start_time": "2024-06-20T10:20:18.788660Z"
    }
   },
   "id": "eafe83a37b569d02",
   "outputs": [],
   "execution_count": 11
  },
  {
   "cell_type": "code",
   "source": [
    "from langchain_core.messages import HumanMessage, SystemMessage\n",
    "\n",
    "messages = [\n",
    "    SystemMessage(content=\"Translate the following from English into Italian\"),\n",
    "    HumanMessage(content=\"hi!\"),\n",
    "]\n",
    "model.invoke(messages)"
   ],
   "metadata": {
    "collapsed": false,
    "ExecuteTime": {
     "end_time": "2024-06-20T10:20:21.285413Z",
     "start_time": "2024-06-20T10:20:19.940051Z"
    }
   },
   "id": "4130120bcf4587b3",
   "outputs": [
    {
     "data": {
      "text/plain": [
       "AIMessage(content='ciao!', response_metadata={'token_usage': {'completion_tokens': 3, 'prompt_tokens': 16, 'total_tokens': 19}, 'model_name': 'glm-4-flash', 'system_fingerprint': None, 'finish_reason': 'stop', 'logprobs': None}, id='run-cc65f24d-8fe6-47b4-a637-215391f276fb-0', usage_metadata={'input_tokens': 16, 'output_tokens': 3, 'total_tokens': 19})"
      ]
     },
     "execution_count": 12,
     "metadata": {},
     "output_type": "execute_result"
    }
   ],
   "execution_count": 12
  },
  {
   "metadata": {},
   "cell_type": "markdown",
   "source": [
    "## 使用简单解析器\n",
    "如果只是需要简单的AIMessage我们用上述的方式就可以结束了，但是我们往往需要更加具体的操作。接着往下走。"
   ],
   "id": "bd34acd8051ce79d"
  },
  {
   "metadata": {
    "ExecuteTime": {
     "end_time": "2024-06-20T10:20:21.288511Z",
     "start_time": "2024-06-20T10:20:21.286416Z"
    }
   },
   "cell_type": "code",
   "source": [
    "# 引入一个简单的结果解析器\n",
    "from langchain_core.output_parsers import StrOutputParser\n",
    "parser = StrOutputParser()"
   ],
   "id": "97533aa47dba10b6",
   "outputs": [],
   "execution_count": 13
  },
  {
   "metadata": {},
   "cell_type": "markdown",
   "source": "使用它的一种方式是单独使用它。例如，我们可以保存语言模型调用的结果，然后将其传递给解析器。",
   "id": "d5cf951457fc6308"
  },
  {
   "metadata": {
    "ExecuteTime": {
     "end_time": "2024-06-20T10:20:21.292800Z",
     "start_time": "2024-06-20T10:20:21.288511Z"
    }
   },
   "cell_type": "code",
   "source": [
    "# result = model.invoke(messages)\n",
    "# parser.invoke(result)"
   ],
   "id": "fb0b03a45c718e53",
   "outputs": [],
   "execution_count": 14
  },
  {
   "metadata": {},
   "cell_type": "markdown",
   "source": "但是这个做法不是很常用，常用的操作我们接着往下看：",
   "id": "94c1a2841e152c0c"
  },
  {
   "metadata": {
    "ExecuteTime": {
     "end_time": "2024-06-20T10:20:22.469071Z",
     "start_time": "2024-06-20T10:20:21.293805Z"
    }
   },
   "cell_type": "code",
   "source": [
    "chain = model | parser\n",
    "chain.invoke(messages)"
   ],
   "id": "433fbc7893eb5492",
   "outputs": [
    {
     "data": {
      "text/plain": [
       "'ciao!'"
      ]
     },
     "execution_count": 15,
     "metadata": {},
     "output_type": "execute_result"
    }
   ],
   "execution_count": 15
  },
  {
   "metadata": {},
   "cell_type": "markdown",
   "source": "如果我们现在看一下 LangSmith，我们会发现这个链条有两个步骤：首先调用语言模型，然后将其结果传递给输出解析器。我们可以在 LangSmith 跟踪 中看到这一点。",
   "id": "bf5a8521ebc9559"
  },
  {
   "metadata": {},
   "cell_type": "markdown",
   "source": "## Prompt Template",
   "id": "541828f3753baf2f"
  },
  {
   "metadata": {
    "ExecuteTime": {
     "end_time": "2024-06-20T10:29:27.165849Z",
     "start_time": "2024-06-20T10:29:27.148934Z"
    }
   },
   "cell_type": "code",
   "source": [
    "from langchain_core.prompts import ChatPromptTemplate\n",
    "\n",
    "system_template = \"Translate the following into {language}:\"\n",
    "\n",
    "prompt_template = ChatPromptTemplate.from_messages(\n",
    "    [(\"system\", system_template), (\"user\", \"{text}\")]\n",
    ")\n",
    "\n",
    "result = prompt_template.invoke({\"language\": \"italian\", \"text\": \"hi\"})\n",
    "result"
   ],
   "id": "ac54bf45a1be7194",
   "outputs": [
    {
     "data": {
      "text/plain": [
       "ChatPromptValue(messages=[SystemMessage(content='Translate the following into italian:'), HumanMessage(content='hi')])"
      ]
     },
     "execution_count": 16,
     "metadata": {},
     "output_type": "execute_result"
    }
   ],
   "execution_count": 16
  },
  {
   "metadata": {
    "ExecuteTime": {
     "end_time": "2024-06-20T10:29:51.779722Z",
     "start_time": "2024-06-20T10:29:51.776227Z"
    }
   },
   "cell_type": "code",
   "source": "result.to_messages()",
   "id": "c5a674b88547e67c",
   "outputs": [
    {
     "data": {
      "text/plain": [
       "[SystemMessage(content='Translate the following into italian:'),\n",
       " HumanMessage(content='hi')]"
      ]
     },
     "execution_count": 17,
     "metadata": {},
     "output_type": "execute_result"
    }
   ],
   "execution_count": 17
  },
  {
   "metadata": {
    "ExecuteTime": {
     "end_time": "2024-06-20T10:36:01.021106Z",
     "start_time": "2024-06-20T10:36:01.018485Z"
    }
   },
   "cell_type": "code",
   "source": "chain = prompt_template | model | parser",
   "id": "161163da0b66f1df",
   "outputs": [],
   "execution_count": 18
  },
  {
   "metadata": {
    "ExecuteTime": {
     "end_time": "2024-06-20T10:36:04.749206Z",
     "start_time": "2024-06-20T10:36:03.564058Z"
    }
   },
   "cell_type": "code",
   "source": "chain.invoke({\"language\": \"italian\", \"text\": \"hi\"})",
   "id": "b083b28c4ec4449a",
   "outputs": [
    {
     "data": {
      "text/plain": [
       "'ciao'"
      ]
     },
     "execution_count": 19,
     "metadata": {},
     "output_type": "execute_result"
    }
   ],
   "execution_count": 19
  },
  {
   "metadata": {},
   "cell_type": "markdown",
   "source": [
    "## 构建服务\n",
    "启动服务，将chain暴露为RESTful API"
   ],
   "id": "b6ff84ea58a5674b"
  },
  {
   "metadata": {},
   "cell_type": "code",
   "source": "# !pip install -qU \"langserve[all]\"",
   "id": "65fa69203b53fc6d",
   "outputs": [],
   "execution_count": null
  },
  {
   "metadata": {},
   "cell_type": "markdown",
   "source": "### 创建一个Serve.py 服务脚本",
   "id": "fb883b60bd842af7"
  },
  {
   "metadata": {},
   "cell_type": "code",
   "outputs": [],
   "execution_count": null,
   "source": "",
   "id": "e1165feee641f40f"
  },
  {
   "metadata": {},
   "cell_type": "code",
   "outputs": [],
   "execution_count": null,
   "source": "",
   "id": "322831b6c08e5ae"
  },
  {
   "metadata": {},
   "cell_type": "code",
   "outputs": [],
   "execution_count": null,
   "source": "",
   "id": "bff9c31e414213c3"
  }
 ],
 "metadata": {
  "kernelspec": {
   "display_name": "Python 3",
   "language": "python",
   "name": "python3"
  },
  "language_info": {
   "codemirror_mode": {
    "name": "ipython",
    "version": 2
   },
   "file_extension": ".py",
   "mimetype": "text/x-python",
   "name": "python",
   "nbconvert_exporter": "python",
   "pygments_lexer": "ipython2",
   "version": "2.7.6"
  }
 },
 "nbformat": 4,
 "nbformat_minor": 5
}
