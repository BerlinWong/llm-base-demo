{
 "cells": [
  {
   "cell_type": "code",
   "id": "initial_id",
   "metadata": {
    "collapsed": true,
    "ExecuteTime": {
     "end_time": "2024-06-20T11:56:11.988260Z",
     "start_time": "2024-06-20T11:56:11.983826Z"
    }
   },
   "source": [
    "# !pip install -qU langchain-cli\n",
    "# !pip install -qU langsmith\n",
    "# !pip install -qU python-dotenv\n",
    "# 使用语言模型\n",
    "# !pip install -qU langchain-openai"
   ],
   "outputs": [],
   "execution_count": 1
  },
  {
   "cell_type": "code",
   "source": [
    "import os\n",
    "\n",
    "from dotenv import load_dotenv\n",
    "\n",
    "load_dotenv()\n",
    "\n",
    "# 读取LangSmith Key\n",
    "os.environ[\"LANGCHAIN_TRACING_V2\"] = \"true\"\n",
    "os.environ[\"LANGCHAIN_API_KEY\"] = os.getenv(\"LANGCHAIN_API_KEY\")\n",
    "os.environ[\"LANGCHAIN_PROJECT\"] = \"lang-env\"\n",
    "os.environ[\"OPENAI_API_KEY\"] = os.getenv(\"OPENAI_API_KEY\")\n",
    "GPT_GOD_API_KEY = os.getenv(\"GPT_GOD_API_KEY\")\n"
   ],
   "metadata": {
    "collapsed": false,
    "ExecuteTime": {
     "end_time": "2024-06-20T11:56:12.002023Z",
     "start_time": "2024-06-20T11:56:11.990265Z"
    }
   },
   "id": "db6fbd2fd7549c05",
   "outputs": [],
   "execution_count": 2
  },
  {
   "cell_type": "code",
   "source": [
    "from langchain_openai import ChatOpenAI\n",
    "\n",
    "model = ChatOpenAI(model=\"glm-4-flash\",\n",
    "                   base_url=\"https://api.gptgod.online/v1/\",\n",
    "                   api_key=GPT_GOD_API_KEY\n",
    "                   )"
   ],
   "metadata": {
    "collapsed": false,
    "ExecuteTime": {
     "end_time": "2024-06-20T11:56:13.969826Z",
     "start_time": "2024-06-20T11:56:12.003026Z"
    }
   },
   "id": "eafe83a37b569d02",
   "outputs": [],
   "execution_count": 3
  },
  {
   "cell_type": "code",
   "source": [
    "from langchain_core.messages import HumanMessage, SystemMessage\n",
    "\n",
    "messages = [\n",
    "    SystemMessage(content=\"Translate the following from English into Italian\"),\n",
    "    HumanMessage(content=\"hi!\"),\n",
    "]\n",
    "model.invoke(messages)"
   ],
   "metadata": {
    "collapsed": false,
    "ExecuteTime": {
     "end_time": "2024-06-20T11:56:15.393816Z",
     "start_time": "2024-06-20T11:56:13.971831Z"
    }
   },
   "id": "4130120bcf4587b3",
   "outputs": [
    {
     "data": {
      "text/plain": [
       "AIMessage(content='ciao!', response_metadata={'token_usage': {'completion_tokens': 3, 'prompt_tokens': 16, 'total_tokens': 19}, 'model_name': 'glm-4-flash', 'system_fingerprint': None, 'finish_reason': 'stop', 'logprobs': None}, id='run-ab0b0897-8300-45aa-b94d-29f18e7f110d-0', usage_metadata={'input_tokens': 16, 'output_tokens': 3, 'total_tokens': 19})"
      ]
     },
     "execution_count": 4,
     "metadata": {},
     "output_type": "execute_result"
    }
   ],
   "execution_count": 4
  },
  {
   "metadata": {},
   "cell_type": "markdown",
   "source": [
    "## 使用简单解析器\n",
    "如果只是需要简单的AIMessage我们用上述的方式就可以结束了，但是我们往往需要更加具体的操作。接着往下走。"
   ],
   "id": "bd34acd8051ce79d"
  },
  {
   "metadata": {
    "ExecuteTime": {
     "end_time": "2024-06-20T11:56:15.398290Z",
     "start_time": "2024-06-20T11:56:15.394820Z"
    }
   },
   "cell_type": "code",
   "source": [
    "# 引入一个简单的结果解析器\n",
    "from langchain_core.output_parsers import StrOutputParser\n",
    "parser = StrOutputParser()"
   ],
   "id": "97533aa47dba10b6",
   "outputs": [],
   "execution_count": 5
  },
  {
   "metadata": {},
   "cell_type": "markdown",
   "source": "使用它的一种方式是单独使用它。例如，我们可以保存语言模型调用的结果，然后将其传递给解析器。",
   "id": "d5cf951457fc6308"
  },
  {
   "metadata": {
    "ExecuteTime": {
     "end_time": "2024-06-20T11:56:15.402653Z",
     "start_time": "2024-06-20T11:56:15.399294Z"
    }
   },
   "cell_type": "code",
   "source": [
    "# result = model.invoke(messages)\n",
    "# parser.invoke(result)"
   ],
   "id": "fb0b03a45c718e53",
   "outputs": [],
   "execution_count": 6
  },
  {
   "metadata": {},
   "cell_type": "markdown",
   "source": "但是这个做法不是很常用，常用的操作我们接着往下看：",
   "id": "94c1a2841e152c0c"
  },
  {
   "metadata": {
    "ExecuteTime": {
     "end_time": "2024-06-20T11:56:16.357141Z",
     "start_time": "2024-06-20T11:56:15.403657Z"
    }
   },
   "cell_type": "code",
   "source": [
    "chain = model | parser\n",
    "chain.invoke(messages)"
   ],
   "id": "433fbc7893eb5492",
   "outputs": [
    {
     "data": {
      "text/plain": [
       "'ciao!'"
      ]
     },
     "execution_count": 7,
     "metadata": {},
     "output_type": "execute_result"
    }
   ],
   "execution_count": 7
  },
  {
   "metadata": {},
   "cell_type": "markdown",
   "source": "如果我们现在看一下 LangSmith，我们会发现这个链条有两个步骤：首先调用语言模型，然后将其结果传递给输出解析器。我们可以在 LangSmith 跟踪 中看到这一点。",
   "id": "bf5a8521ebc9559"
  },
  {
   "metadata": {},
   "cell_type": "markdown",
   "source": "## Prompt Template",
   "id": "541828f3753baf2f"
  },
  {
   "metadata": {
    "ExecuteTime": {
     "end_time": "2024-06-20T11:56:16.370927Z",
     "start_time": "2024-06-20T11:56:16.358145Z"
    }
   },
   "cell_type": "code",
   "source": [
    "from langchain_core.prompts import ChatPromptTemplate\n",
    "\n",
    "system_template = \"Translate the following into {language}:\"\n",
    "\n",
    "prompt_template = ChatPromptTemplate.from_messages(\n",
    "    [(\"system\", system_template), (\"user\", \"{text}\")]\n",
    ")\n",
    "\n",
    "result = prompt_template.invoke({\"language\": \"italian\", \"text\": \"hi\"})\n",
    "result"
   ],
   "id": "ac54bf45a1be7194",
   "outputs": [
    {
     "data": {
      "text/plain": [
       "ChatPromptValue(messages=[SystemMessage(content='Translate the following into italian:'), HumanMessage(content='hi')])"
      ]
     },
     "execution_count": 8,
     "metadata": {},
     "output_type": "execute_result"
    }
   ],
   "execution_count": 8
  },
  {
   "metadata": {
    "ExecuteTime": {
     "end_time": "2024-06-20T11:56:16.375999Z",
     "start_time": "2024-06-20T11:56:16.372932Z"
    }
   },
   "cell_type": "code",
   "source": "result.to_messages()",
   "id": "c5a674b88547e67c",
   "outputs": [
    {
     "data": {
      "text/plain": [
       "[SystemMessage(content='Translate the following into italian:'),\n",
       " HumanMessage(content='hi')]"
      ]
     },
     "execution_count": 9,
     "metadata": {},
     "output_type": "execute_result"
    }
   ],
   "execution_count": 9
  },
  {
   "metadata": {
    "ExecuteTime": {
     "end_time": "2024-06-20T11:56:16.380155Z",
     "start_time": "2024-06-20T11:56:16.377004Z"
    }
   },
   "cell_type": "code",
   "source": "chain = prompt_template | model | parser",
   "id": "161163da0b66f1df",
   "outputs": [],
   "execution_count": 10
  },
  {
   "metadata": {
    "ExecuteTime": {
     "end_time": "2024-06-20T11:56:17.261607Z",
     "start_time": "2024-06-20T11:56:16.381158Z"
    }
   },
   "cell_type": "code",
   "source": "chain.invoke({\"language\": \"italian\", \"text\": \"hi\"})",
   "id": "b083b28c4ec4449a",
   "outputs": [
    {
     "data": {
      "text/plain": [
       "'ciao'"
      ]
     },
     "execution_count": 11,
     "metadata": {},
     "output_type": "execute_result"
    }
   ],
   "execution_count": 11
  },
  {
   "metadata": {},
   "cell_type": "markdown",
   "source": [
    "## 构建服务\n",
    "启动服务，将chain暴露为RESTful API"
   ],
   "id": "b6ff84ea58a5674b"
  },
  {
   "metadata": {
    "ExecuteTime": {
     "end_time": "2024-06-20T11:56:17.265502Z",
     "start_time": "2024-06-20T11:56:17.262611Z"
    }
   },
   "cell_type": "code",
   "source": "# !pip install -qU \"langserve[all]\"",
   "id": "65fa69203b53fc6d",
   "outputs": [],
   "execution_count": 12
  },
  {
   "metadata": {},
   "cell_type": "markdown",
   "source": "### 创建一个Serve.py 服务脚本",
   "id": "fb883b60bd842af7"
  },
  {
   "metadata": {
    "ExecuteTime": {
     "end_time": "2024-06-20T11:56:17.268648Z",
     "start_time": "2024-06-20T11:56:17.266506Z"
    }
   },
   "cell_type": "code",
   "source": "",
   "id": "e1165feee641f40f",
   "outputs": [],
   "execution_count": 12
  },
  {
   "metadata": {
    "ExecuteTime": {
     "end_time": "2024-06-20T11:56:17.271980Z",
     "start_time": "2024-06-20T11:56:17.268648Z"
    }
   },
   "cell_type": "code",
   "source": "",
   "id": "322831b6c08e5ae",
   "outputs": [],
   "execution_count": 12
  },
  {
   "metadata": {
    "ExecuteTime": {
     "end_time": "2024-06-20T11:56:17.275504Z",
     "start_time": "2024-06-20T11:56:17.272984Z"
    }
   },
   "cell_type": "code",
   "source": "",
   "id": "bff9c31e414213c3",
   "outputs": [],
   "execution_count": 12
  }
 ],
 "metadata": {
  "kernelspec": {
   "display_name": "Python 3",
   "language": "python",
   "name": "python3"
  },
  "language_info": {
   "codemirror_mode": {
    "name": "ipython",
    "version": 2
   },
   "file_extension": ".py",
   "mimetype": "text/x-python",
   "name": "python",
   "nbconvert_exporter": "python",
   "pygments_lexer": "ipython2",
   "version": "2.7.6"
  }
 },
 "nbformat": 4,
 "nbformat_minor": 5
}
