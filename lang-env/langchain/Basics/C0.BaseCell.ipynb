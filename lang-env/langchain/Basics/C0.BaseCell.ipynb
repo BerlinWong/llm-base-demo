{
 "cells": [
  {
   "metadata": {},
   "cell_type": "markdown",
   "source": [
    "你可能需要构建模型也可能需要载入LangSmith，通过复制粘贴这几个cell 快速开始吧"
   ],
   "id": "6a951765a78bf3a2"
  },
  {
   "metadata": {},
   "cell_type": "code",
   "outputs": [],
   "execution_count": 12,
   "source": [
    "# !pip install -qU langchain-cli\n",
    "# !pip install -qU langsmith\n",
    "# !pip install -qU python-dotenv\n",
    "# !pip install -qU langchain-openai\n",
    "# !pip install -qU \"langserve[all]\""
   ],
   "id": "100333af69404338"
  },
  {
   "metadata": {},
   "cell_type": "code",
   "outputs": [],
   "execution_count": 13,
   "source": [
    "import os\n",
    "\n",
    "from dotenv import load_dotenv\n",
    "\n",
    "load_dotenv()\n",
    "\n",
    "# 读取LangSmith Key\n",
    "os.environ[\"LANGCHAIN_TRACING_V2\"] = \"true\"\n",
    "os.environ[\"LANGCHAIN_API_KEY\"] = os.getenv(\"LANGCHAIN_API_KEY\")\n",
    "os.environ[\"LANGCHAIN_PROJECT\"] = \"lang-env\"\n",
    "os.environ[\"OPENAI_API_KEY\"] = os.getenv(\"OPENAI_API_KEY\")\n",
    "GPT_GOD_API_KEY = os.getenv(\"GPT_GOD_API_KEY\")\n"
   ],
   "id": "f9cbc6b176b917a4"
  },
  {
   "metadata": {},
   "cell_type": "code",
   "outputs": [],
   "execution_count": 14,
   "source": [
    "from langchain_openai import ChatOpenAI\n",
    "\n",
    "model = ChatOpenAI(model=\"glm-4-flash\",\n",
    "                   base_url=\"https://api.gptgod.online/v1/\",\n",
    "                   api_key=GPT_GOD_API_KEY\n",
    "                   )"
   ],
   "id": "b325e50aad4a7050"
  }
 ],
 "metadata": {
  "kernelspec": {
   "display_name": "Python 3",
   "language": "python",
   "name": "python3"
  },
  "language_info": {
   "codemirror_mode": {
    "name": "ipython",
    "version": 2
   },
   "file_extension": ".py",
   "mimetype": "text/x-python",
   "name": "python",
   "nbconvert_exporter": "python",
   "pygments_lexer": "ipython2",
   "version": "2.7.6"
  }
 },
 "nbformat": 4,
 "nbformat_minor": 5
}
