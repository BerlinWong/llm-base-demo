{
 "cells": [
  {
   "metadata": {
    "ExecuteTime": {
     "end_time": "2024-06-23T15:01:39.629985Z",
     "start_time": "2024-06-23T15:01:39.623482Z"
    }
   },
   "cell_type": "code",
   "source": [
    "import os\n",
    "\n",
    "from dotenv import load_dotenv\n",
    "\n",
    "load_dotenv()\n",
    "\n",
    "# 读取LangSmith Key\n",
    "os.environ[\"LANGCHAIN_TRACING_V2\"] = \"true\"\n",
    "os.environ[\"LANGCHAIN_API_KEY\"] = os.getenv(\"LANGCHAIN_API_KEY\")\n",
    "os.environ[\"LANGCHAIN_PROJECT\"] = \"lang-env\"\n",
    "os.environ[\"OPENAI_API_KEY\"] = os.getenv(\"OPENAI_API_KEY\")\n",
    "os.environ[\"TAVILY_API_KEY\"] = os.getenv(\"TAVILY_API_KEY\")\n",
    "GPT_GOD_API_KEY = os.getenv(\"GPT_GOD_API_KEY\")"
   ],
   "id": "a2bce694dc13a837",
   "outputs": [],
   "execution_count": 1
  },
  {
   "metadata": {
    "ExecuteTime": {
     "end_time": "2024-06-23T15:02:33.060344Z",
     "start_time": "2024-06-23T15:02:25.598667Z"
    }
   },
   "cell_type": "code",
   "source": [
    "from langchain_community.tools.tavily_search import TavilySearchResults\n",
    "\n",
    "search = TavilySearchResults(max_results=2)\n",
    "\n",
    "search.invoke(\"what is the weather in suzhou\")"
   ],
   "id": "a2c04e200200d320",
   "outputs": [
    {
     "data": {
      "text/plain": "[{'url': 'https://www.meteoprog.com/weather/Suzhou/month/june/',\n  'content': 'Suzhou (China) weather in June 2024 ☀️ Accurate weather forecast for Suzhou in June ⛅ Detailed forecast By month Current temperature \"near me\" Weather news ⊳ Widget of weather ⊳ Water temperature | METEOPROG. Meteoprog.com. ... 23 June +28 °+23° 24 June +29° ...'},\n {'url': 'https://www.weatherapi.com/',\n  'content': \"{'location': {'name': 'Suzhou', 'region': 'Anhui', 'country': 'China', 'lat': 33.64, 'lon': 116.98, 'tz_id': 'Asia/Shanghai', 'localtime_epoch': 1719154900, 'localtime': '2024-06-23 23:01'}, 'current': {'last_updated_epoch': 1719154800, 'last_updated': '2024-06-23 23:00', 'temp_c': 27.6, 'temp_f': 81.7, 'is_day': 0, 'condition': {'text': 'Clear', 'icon': '//cdn.weatherapi.com/weather/64x64/night/113.png', 'code': 1000}, 'wind_mph': 13.2, 'wind_kph': 21.2, 'wind_degree': 215, 'wind_dir': 'SW', 'pressure_mb': 1000.0, 'pressure_in': 29.54, 'precip_mm': 0.0, 'precip_in': 0.0, 'humidity': 61, 'cloud': 0, 'feelslike_c': 29.3, 'feelslike_f': 84.7, 'windchill_c': 27.6, 'windchill_f': 81.7, 'heatindex_c': 29.3, 'heatindex_f': 84.7, 'dewpoint_c': 19.5, 'dewpoint_f': 67.1, 'vis_km': 10.0, 'vis_miles': 6.0, 'uv': 1.0, 'gust_mph': 21.1, 'gust_kph': 33.9}}\"}]"
     },
     "execution_count": 4,
     "metadata": {},
     "output_type": "execute_result"
    }
   ],
   "execution_count": 4
  },
  {
   "metadata": {
    "ExecuteTime": {
     "end_time": "2024-06-23T15:01:41.710442Z",
     "start_time": "2024-06-23T15:01:41.707124Z"
    }
   },
   "cell_type": "code",
   "source": [
    "# 创建召回器\n",
    "from langchain_community.document_loaders import WebBaseLoader\n",
    "from langchain_community.vectorstores import FAISS\n",
    "from langchain_openai import OpenAIEmbeddings\n",
    "from langchain_text_splitters import RecursiveCharacterTextSplitter\n",
    "loader = WebBaseLoader(\"https://docs.smith.langchain.com/overview\")\n",
    "docs = loader.load()\n",
    "documents = RecursiveCharacterTextSplitter(\n",
    "    chunk_size=1000, chunk_overlap=200\n",
    ").split_documents(docs)\n",
    "vector = FAISS.from_documents(documents, OpenAIEmbeddings())\n",
    "retriever = vector.as_retriever()"
   ],
   "id": "24632c0714eee32b",
   "outputs": [],
   "execution_count": 2
  },
  {
   "metadata": {
    "ExecuteTime": {
     "end_time": "2024-06-23T15:01:41.713953Z",
     "start_time": "2024-06-23T15:01:41.711773Z"
    }
   },
   "cell_type": "code",
   "source": [],
   "id": "33ed82da1b9e0401",
   "outputs": [],
   "execution_count": 2
  },
  {
   "metadata": {
    "ExecuteTime": {
     "end_time": "2024-06-23T15:01:41.718272Z",
     "start_time": "2024-06-23T15:01:41.716434Z"
    }
   },
   "cell_type": "code",
   "source": [],
   "id": "4da9e3d7385713e9",
   "outputs": [],
   "execution_count": 2
  },
  {
   "metadata": {
    "ExecuteTime": {
     "end_time": "2024-06-23T15:01:41.720765Z",
     "start_time": "2024-06-23T15:01:41.719167Z"
    }
   },
   "cell_type": "code",
   "source": [],
   "id": "71571b060a9f3007",
   "outputs": [],
   "execution_count": 2
  }
 ],
 "metadata": {
  "kernelspec": {
   "display_name": "Python 3",
   "language": "python",
   "name": "python3"
  },
  "language_info": {
   "codemirror_mode": {
    "name": "ipython",
    "version": 2
   },
   "file_extension": ".py",
   "mimetype": "text/x-python",
   "name": "python",
   "nbconvert_exporter": "python",
   "pygments_lexer": "ipython2",
   "version": "2.7.6"
  }
 },
 "nbformat": 4,
 "nbformat_minor": 5
}
