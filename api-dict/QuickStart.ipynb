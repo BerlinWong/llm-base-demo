{
 "cells": [
  {
   "cell_type": "code",
   "id": "initial_id",
   "metadata": {
    "collapsed": true,
    "ExecuteTime": {
     "end_time": "2024-06-26T07:13:55.175203Z",
     "start_time": "2024-06-26T07:13:55.172275Z"
    }
   },
   "source": [
    ""
   ],
   "outputs": [],
   "execution_count": 4
  },
  {
   "metadata": {
    "ExecuteTime": {
     "end_time": "2024-06-26T07:13:57.740508Z",
     "start_time": "2024-06-26T07:13:55.176207Z"
    }
   },
   "cell_type": "code",
   "source": [
    "import requests\n",
    "\n",
    "def get_7timer_forecast(lon, lat, product='astro', output='json'):\n",
    "    # 构造API URL\n",
    "    url = f\"http://www.7timer.info/bin/api.pl?lon={lon}&lat={lat}&product={product}&output={output}\"\n",
    "    \n",
    "    # 发送请求\n",
    "    response = requests.get(url)\n",
    "    \n",
    "    # 检查请求是否成功\n",
    "    if response.status_code == 200:\n",
    "        # 解析返回的JSON数据\n",
    "        forecast_data = response.json()\n",
    "        return forecast_data\n",
    "    else:\n",
    "        print(f\"Failed to retrieve data: {response.status_code}\")\n",
    "        return None\n",
    "\n",
    "# 示例：获取经度113.17，纬度23.09的天文预报数据\n",
    "forecast = get_7timer_forecast(113.17, 23.09)\n",
    "print(forecast)"
   ],
   "id": "ecad226ef29c175a",
   "outputs": [
    {
     "name": "stdout",
     "output_type": "stream",
     "text": [
      "{'product': 'astro', 'init': '2024062600', 'dataseries': [{'timepoint': 3, 'cloudcover': 9, 'seeing': 6, 'transparency': 3, 'lifted_index': -4, 'rh2m': 7, 'wind10m': {'direction': 'SE', 'speed': 3}, 'temp2m': 31, 'prec_type': 'rain'}, {'timepoint': 6, 'cloudcover': 9, 'seeing': 7, 'transparency': 3, 'lifted_index': -4, 'rh2m': 7, 'wind10m': {'direction': 'S', 'speed': 2}, 'temp2m': 33, 'prec_type': 'rain'}, {'timepoint': 9, 'cloudcover': 9, 'seeing': 7, 'transparency': 3, 'lifted_index': -4, 'rh2m': 7, 'wind10m': {'direction': 'NW', 'speed': 2}, 'temp2m': 29, 'prec_type': 'rain'}, {'timepoint': 12, 'cloudcover': 9, 'seeing': 8, 'transparency': 3, 'lifted_index': -4, 'rh2m': 8, 'wind10m': {'direction': 'E', 'speed': 2}, 'temp2m': 29, 'prec_type': 'rain'}, {'timepoint': 15, 'cloudcover': 9, 'seeing': 8, 'transparency': 4, 'lifted_index': -4, 'rh2m': 10, 'wind10m': {'direction': 'SE', 'speed': 2}, 'temp2m': 28, 'prec_type': 'rain'}, {'timepoint': 18, 'cloudcover': 9, 'seeing': 8, 'transparency': 5, 'lifted_index': -4, 'rh2m': 12, 'wind10m': {'direction': 'NW', 'speed': 1}, 'temp2m': 27, 'prec_type': 'rain'}, {'timepoint': 21, 'cloudcover': 8, 'seeing': 8, 'transparency': 5, 'lifted_index': -4, 'rh2m': 13, 'wind10m': {'direction': 'SE', 'speed': 2}, 'temp2m': 27, 'prec_type': 'rain'}, {'timepoint': 24, 'cloudcover': 8, 'seeing': 6, 'transparency': 5, 'lifted_index': -4, 'rh2m': 11, 'wind10m': {'direction': 'SE', 'speed': 2}, 'temp2m': 29, 'prec_type': 'rain'}, {'timepoint': 27, 'cloudcover': 6, 'seeing': 6, 'transparency': 3, 'lifted_index': -4, 'rh2m': 7, 'wind10m': {'direction': 'SE', 'speed': 2}, 'temp2m': 32, 'prec_type': 'rain'}, {'timepoint': 30, 'cloudcover': 7, 'seeing': 6, 'transparency': 3, 'lifted_index': -4, 'rh2m': 7, 'wind10m': {'direction': 'S', 'speed': 2}, 'temp2m': 32, 'prec_type': 'rain'}, {'timepoint': 33, 'cloudcover': 9, 'seeing': 6, 'transparency': 3, 'lifted_index': -4, 'rh2m': 6, 'wind10m': {'direction': 'S', 'speed': 2}, 'temp2m': 33, 'prec_type': 'rain'}, {'timepoint': 36, 'cloudcover': 9, 'seeing': 8, 'transparency': 4, 'lifted_index': -4, 'rh2m': 10, 'wind10m': {'direction': 'S', 'speed': 2}, 'temp2m': 31, 'prec_type': 'rain'}, {'timepoint': 39, 'cloudcover': 6, 'seeing': 8, 'transparency': 5, 'lifted_index': -4, 'rh2m': 11, 'wind10m': {'direction': 'S', 'speed': 2}, 'temp2m': 29, 'prec_type': 'none'}, {'timepoint': 42, 'cloudcover': 6, 'seeing': 8, 'transparency': 6, 'lifted_index': -4, 'rh2m': 13, 'wind10m': {'direction': 'S', 'speed': 2}, 'temp2m': 27, 'prec_type': 'rain'}, {'timepoint': 45, 'cloudcover': 9, 'seeing': 8, 'transparency': 6, 'lifted_index': -4, 'rh2m': 13, 'wind10m': {'direction': 'SW', 'speed': 2}, 'temp2m': 27, 'prec_type': 'none'}, {'timepoint': 48, 'cloudcover': 9, 'seeing': 6, 'transparency': 5, 'lifted_index': -4, 'rh2m': 11, 'wind10m': {'direction': 'S', 'speed': 2}, 'temp2m': 29, 'prec_type': 'none'}, {'timepoint': 51, 'cloudcover': 9, 'seeing': 6, 'transparency': 3, 'lifted_index': -1, 'rh2m': 7, 'wind10m': {'direction': 'S', 'speed': 3}, 'temp2m': 32, 'prec_type': 'rain'}, {'timepoint': 54, 'cloudcover': 9, 'seeing': 6, 'transparency': 3, 'lifted_index': -1, 'rh2m': 5, 'wind10m': {'direction': 'SW', 'speed': 3}, 'temp2m': 33, 'prec_type': 'rain'}, {'timepoint': 57, 'cloudcover': 5, 'seeing': 6, 'transparency': 3, 'lifted_index': -1, 'rh2m': 6, 'wind10m': {'direction': 'SW', 'speed': 3}, 'temp2m': 34, 'prec_type': 'rain'}, {'timepoint': 60, 'cloudcover': 5, 'seeing': 6, 'transparency': 4, 'lifted_index': -1, 'rh2m': 8, 'wind10m': {'direction': 'S', 'speed': 3}, 'temp2m': 31, 'prec_type': 'rain'}, {'timepoint': 63, 'cloudcover': 9, 'seeing': 6, 'transparency': 4, 'lifted_index': -1, 'rh2m': 10, 'wind10m': {'direction': 'S', 'speed': 3}, 'temp2m': 29, 'prec_type': 'none'}, {'timepoint': 66, 'cloudcover': 7, 'seeing': 6, 'transparency': 5, 'lifted_index': -4, 'rh2m': 11, 'wind10m': {'direction': 'S', 'speed': 2}, 'temp2m': 28, 'prec_type': 'rain'}, {'timepoint': 69, 'cloudcover': 8, 'seeing': 6, 'transparency': 6, 'lifted_index': -4, 'rh2m': 12, 'wind10m': {'direction': 'S', 'speed': 2}, 'temp2m': 27, 'prec_type': 'rain'}, {'timepoint': 72, 'cloudcover': 8, 'seeing': 6, 'transparency': 5, 'lifted_index': -1, 'rh2m': 10, 'wind10m': {'direction': 'S', 'speed': 3}, 'temp2m': 29, 'prec_type': 'rain'}]}\n"
     ]
    }
   ],
   "execution_count": 5
  },
  {
   "metadata": {
    "ExecuteTime": {
     "end_time": "2024-06-26T10:20:53.050604Z",
     "start_time": "2024-06-26T10:20:52.226433Z"
    }
   },
   "cell_type": "code",
   "source": [
    "import requests\n",
    "\n",
    "# 构建URL\n",
    "url = 'https://aigc.mindcoord.com/api/v1/check_task/84a9c98b-ee6e-4b1f-addf-beedae818ba7'\n",
    "\n",
    "# 设置头部信息\n",
    "headers = {\n",
    "    'Content-Type': 'application/json',\n",
    "    'Authorization': 'Bearer sk-clr7Jnw2fPq78Kkt'\n",
    "}\n",
    "\n",
    "# 发送GET请求\n",
    "response = requests.get(url, headers=headers)\n",
    "\n",
    "# 打印响应内容\n",
    "print(response.text)"
   ],
   "id": "8b8fff2ec2826cea",
   "outputs": [
    {
     "name": "stdout",
     "output_type": "stream",
     "text": [
      "{\"code\":404,\"data\":{},\"message\":\"Task UUID not found.\"}\n",
      "\n"
     ]
    }
   ],
   "execution_count": 6
  },
  {
   "metadata": {
    "ExecuteTime": {
     "end_time": "2024-06-26T10:23:11.340192Z",
     "start_time": "2024-06-26T10:23:09.790635Z"
    }
   },
   "cell_type": "code",
   "source": [
    "import requests\n",
    "\n",
    "# 构建URL\n",
    "url = 'https://aigc.mindcoord.com/api/sd/v1/upload_config_file'\n",
    "\n",
    "# 设置头部信息\n",
    "headers = {\n",
    "    'Content-Type': 'application/json',\n",
    "    'Authorization': 'Bearer sk-clr7Jnw2fPq78Kkt'\n",
    "}\n",
    "\n",
    "# 读取JSON数据文件\n",
    "with open('model_info.json', 'r') as file:\n",
    "    data = file.read()\n",
    "\n",
    "# 发送POST请求\n",
    "response = requests.post(url, headers=headers, data=data)\n",
    "\n",
    "# 打印响应内容\n",
    "print(response.text)"
   ],
   "id": "a6eef3f6f969dace",
   "outputs": [
    {
     "name": "stdout",
     "output_type": "stream",
     "text": [
      "{\"code\":200,\"data\":{\"creat_time\":1719397391,\"file_id\":\"file-QxwKJAfCVK7910\",\"task_uuid\":\"96518793-f6ec-4aa2-a51e-eae1cd699e02\"},\"message\":\"success\"}\n",
      "\n"
     ]
    }
   ],
   "execution_count": 7
  },
  {
   "metadata": {
    "ExecuteTime": {
     "end_time": "2024-06-26T10:30:47.910989Z",
     "start_time": "2024-06-26T10:30:47.108317Z"
    }
   },
   "cell_type": "code",
   "source": [
    "\n",
    "\n",
    "import requests\n",
    "\n",
    "# 构建URL\n",
    "url = 'https://aigc.mindcoord.com/api/v1/check_task/96518793-f6ec-4aa2-a51e-eae1cd699e02'\n",
    "\n",
    "# 设置头部信息\n",
    "headers = {\n",
    "    'Content-Type': 'application/json',\n",
    "    'Authorization': 'Bearer sk-clr7Jnw2fPq78Kkt'\n",
    "}\n",
    "\n",
    "# 发送GET请求\n",
    "response = requests.get(url, headers=headers)\n",
    "\n",
    "# 打印响应内容\n",
    "print(response.text)"
   ],
   "id": "8dfc33280dc437ab",
   "outputs": [
    {
     "name": "stdout",
     "output_type": "stream",
     "text": [
      "{\"code\":200,\"data\":{\"creat_time\":1719397391,\"progress\":100,\"request_data\":{\"model_config\":{\"GameIconInstitute\":{\"CLIP_stop_at_last_layers\":2,\"ckpt_model\":{\"id\":267897,\"name\":\"\"},\"default\":false,\"examples\":[],\"fixed_negative_prompt\":\"\",\"fixed_prompt\":\"\",\"height\":512,\"lora_model\":{\"id\":0,\"name\":\"\"},\"sampler_index\":\"DPM++ 2M Karras\",\"sd_vae\":\"\",\"styles\":[\"Cartoon style\"],\"subjects\":[\"item\"],\"width\":512},\"LyrielUrban\":{\"CLIP_stop_at_last_layers\":2,\"ckpt_model\":{\"id\":72396,\"name\":\"\"},\"default\":true,\"examples\":[[\"A teenage girl, wearing a white tech-inspired jacket on the street, with pants featuring a belt buckle.\",\"(original: 1.2), (far shot), (realistic: 1.3) (mixed Korean), masterpiece, best quality, beautiful clean face, fullbody, 1girl, teenager, wearing white techwear jacket and orange trousers with buckle and tape, (crystal necklace), posing for a picture, (red short hair), long legs, big happy warm smile, carrying a cobalt backpack, on the street \",\"paintings, sketches, (worst quality:2), (low quality:2), (normal quality:2), dot, mole, lowres, normal quality, monochrome, grayscale, lowres, text, error, cropped, worst quality, low quality, jpeg artifacts, ugly, duplicate, morbid, mutilated, out of frame, extra fingers, mutated hands, poorly drawn hands, poorly drawn face, mutation, deformed, blurry, dehydrated, bad anatomy, bad proportions, extra limbs, cloned face, disfigured, gross proportions, malformed limbs, missing arms, missing legs, extra arms, extra legs, fused fingers, too many fingers, long neck, username, watermark, signature, (mole:1.4),NSFW, watermark\"]],\"fixed_negative_prompt\":\"colorful background\",\"fixed_prompt\":\"(no background),((single object)),(Profile view),(((full view))),(stay away from the camera),(to the right)\",\"height\":768,\"lora_model\":{\"id\":27871,\"name\":\"\"},\"sampler_index\":\"DPM++ 2M Karras\",\"sd_vae\":\"\",\"styles\":[\"Urban style\"],\"subjects\":[\"human\"],\"width\":512}}},\"result\":{},\"state\":\"SUCCESS\",\"task_uuid\":\"96518793-f6ec-4aa2-a51e-eae1cd699e02\"},\"message\":\"success\"}\n",
      "\n"
     ]
    }
   ],
   "execution_count": 8
  },
  {
   "metadata": {},
   "cell_type": "code",
   "outputs": [],
   "execution_count": null,
   "source": "",
   "id": "341b635cf5023d9c"
  }
 ],
 "metadata": {
  "kernelspec": {
   "display_name": "Python 3",
   "language": "python",
   "name": "python3"
  },
  "language_info": {
   "codemirror_mode": {
    "name": "ipython",
    "version": 2
   },
   "file_extension": ".py",
   "mimetype": "text/x-python",
   "name": "python",
   "nbconvert_exporter": "python",
   "pygments_lexer": "ipython2",
   "version": "2.7.6"
  }
 },
 "nbformat": 4,
 "nbformat_minor": 5
}
